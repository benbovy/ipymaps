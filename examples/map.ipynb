{
 "cells": [
  {
   "cell_type": "code",
   "execution_count": null,
   "id": "939cc4a7-60e6-4296-96eb-15821b358ae2",
   "metadata": {},
   "outputs": [],
   "source": [
    "import ipymaps\n",
    "import ipywidgets"
   ]
  },
  {
   "cell_type": "code",
   "execution_count": null,
   "id": "dc6fffab-c732-4573-a95e-457ba837dc60",
   "metadata": {},
   "outputs": [],
   "source": [
    "m = ipymaps.Map()\n",
    "m"
   ]
  },
  {
   "cell_type": "code",
   "execution_count": null,
   "id": "a26d125d-87a3-4d4b-9302-34c8cf288313",
   "metadata": {},
   "outputs": [],
   "source": [
    "slider = ipywidgets.IntSlider(value=1, min=1, max=12, step=1)\n",
    "ipywidgets.jslink((slider, 'value'), (m, 'month'))\n",
    "slider"
   ]
  },
  {
   "cell_type": "code",
   "execution_count": null,
   "id": "c877d2bc-ef6f-4e38-ba85-fe0b58b6916e",
   "metadata": {},
   "outputs": [],
   "source": []
  }
 ],
 "metadata": {
  "kernelspec": {
   "display_name": "Python 3 (ipykernel)",
   "language": "python",
   "name": "python3"
  },
  "language_info": {
   "codemirror_mode": {
    "name": "ipython",
    "version": 3
   },
   "file_extension": ".py",
   "mimetype": "text/x-python",
   "name": "python",
   "nbconvert_exporter": "python",
   "pygments_lexer": "ipython3",
   "version": "3.9.7"
  }
 },
 "nbformat": 4,
 "nbformat_minor": 5
}
